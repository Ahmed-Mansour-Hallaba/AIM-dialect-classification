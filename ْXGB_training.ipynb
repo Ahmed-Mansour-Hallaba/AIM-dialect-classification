{
 "cells": [
  {
   "cell_type": "markdown",
   "id": "ad248e8a",
   "metadata": {},
   "source": [
    "# Importing Libraries"
   ]
  },
  {
   "cell_type": "code",
   "execution_count": 10,
   "id": "fdacdd91",
   "metadata": {},
   "outputs": [],
   "source": [
    "import warnings\n",
    "warnings.filterwarnings('ignore')"
   ]
  },
  {
   "cell_type": "code",
   "execution_count": 11,
   "id": "9ea56d0d",
   "metadata": {},
   "outputs": [],
   "source": [
    "import pandas as pd\n",
    "import numpy as np\n",
    "import matplotlib.pyplot as plt\n",
    "import seaborn as sns\n",
    "%matplotlib inline\n",
    "plt.style.use('bmh')\n",
    "from sklearn.model_selection import train_test_split\n",
    "pd.set_option('display.max_colwidth', 100000)\n",
    "# import Data_Preprocessing as dp\n",
    "import pickle\n",
    "from sklearn.feature_extraction.text import TfidfVectorizer\n",
    "from sklearn.pipeline import Pipeline\n",
    "from sklearn.model_selection import cross_val_score\n",
    "from sklearn.metrics import classification_report\n",
    "from sklearn.svm import LinearSVC\n",
    "import tensorflow as tf\n",
    "from keras.preprocessing.text import Tokenizer\n",
    "from keras.preprocessing.sequence import pad_sequences\n",
    "import gensim\n",
    "from gensim.models import KeyedVectors\n",
    "from gensim.models import word2vec\n",
    "from tensorflow.keras.models import load_model\n",
    "from xgboost import XGBClassifier\n"
   ]
  },
  {
   "cell_type": "code",
   "execution_count": 22,
   "id": "a8760107",
   "metadata": {},
   "outputs": [
    {
     "data": {
      "text/html": [
       "<div>\n",
       "<style scoped>\n",
       "    .dataframe tbody tr th:only-of-type {\n",
       "        vertical-align: middle;\n",
       "    }\n",
       "\n",
       "    .dataframe tbody tr th {\n",
       "        vertical-align: top;\n",
       "    }\n",
       "\n",
       "    .dataframe thead th {\n",
       "        text-align: right;\n",
       "    }\n",
       "</style>\n",
       "<table border=\"1\" class=\"dataframe\">\n",
       "  <thead>\n",
       "    <tr style=\"text-align: right;\">\n",
       "      <th></th>\n",
       "      <th>Unnamed: 0</th>\n",
       "      <th>dialect</th>\n",
       "      <th>content</th>\n",
       "    </tr>\n",
       "  </thead>\n",
       "  <tbody>\n",
       "    <tr>\n",
       "      <th>0</th>\n",
       "      <td>0</td>\n",
       "      <td>IQ</td>\n",
       "      <td>لكن بالنهاية ينتفض يغير</td>\n",
       "    </tr>\n",
       "    <tr>\n",
       "      <th>1</th>\n",
       "      <td>1</td>\n",
       "      <td>IQ</td>\n",
       "      <td>يعني محسوب البشر حيونه وحشيه وتطلبون الغرب يحترمكم ويؤمن بدينكم ولاينعتكم بالإرهاب</td>\n",
       "    </tr>\n",
       "    <tr>\n",
       "      <th>2</th>\n",
       "      <td>2</td>\n",
       "      <td>IQ</td>\n",
       "      <td>مبين كلامه خليجي</td>\n",
       "    </tr>\n",
       "    <tr>\n",
       "      <th>3</th>\n",
       "      <td>3</td>\n",
       "      <td>IQ</td>\n",
       "      <td>يسلملي مرورك وروحك الحلوه</td>\n",
       "    </tr>\n",
       "    <tr>\n",
       "      <th>4</th>\n",
       "      <td>4</td>\n",
       "      <td>IQ</td>\n",
       "      <td>وين هل الغيبه اخ محمد</td>\n",
       "    </tr>\n",
       "    <tr>\n",
       "      <th>...</th>\n",
       "      <td>...</td>\n",
       "      <td>...</td>\n",
       "      <td>...</td>\n",
       "    </tr>\n",
       "    <tr>\n",
       "      <th>458192</th>\n",
       "      <td>458192</td>\n",
       "      <td>BH</td>\n",
       "      <td>مبسوطين باسطانا</td>\n",
       "    </tr>\n",
       "    <tr>\n",
       "      <th>458193</th>\n",
       "      <td>458193</td>\n",
       "      <td>BH</td>\n",
       "      <td>واله ماينده ابش يختي</td>\n",
       "    </tr>\n",
       "    <tr>\n",
       "      <th>458194</th>\n",
       "      <td>458194</td>\n",
       "      <td>BH</td>\n",
       "      <td>شو عملنا لك حنا تهربي منا مساكين ليش بتعملي هيك فينا</td>\n",
       "    </tr>\n",
       "    <tr>\n",
       "      <th>458195</th>\n",
       "      <td>458195</td>\n",
       "      <td>BH</td>\n",
       "      <td>اله يبارك وبالعافيه</td>\n",
       "    </tr>\n",
       "    <tr>\n",
       "      <th>458196</th>\n",
       "      <td>458196</td>\n",
       "      <td>BH</td>\n",
       "      <td>السحله ضيفي ي بتطلع لك سحليه</td>\n",
       "    </tr>\n",
       "  </tbody>\n",
       "</table>\n",
       "<p>458197 rows × 3 columns</p>\n",
       "</div>"
      ],
      "text/plain": [
       "        Unnamed: 0 dialect  \\\n",
       "0                0      IQ   \n",
       "1                1      IQ   \n",
       "2                2      IQ   \n",
       "3                3      IQ   \n",
       "4                4      IQ   \n",
       "...            ...     ...   \n",
       "458192      458192      BH   \n",
       "458193      458193      BH   \n",
       "458194      458194      BH   \n",
       "458195      458195      BH   \n",
       "458196      458196      BH   \n",
       "\n",
       "                                                                                   content  \n",
       "0                                                                  لكن بالنهاية ينتفض يغير  \n",
       "1       يعني محسوب البشر حيونه وحشيه وتطلبون الغرب يحترمكم ويؤمن بدينكم ولاينعتكم بالإرهاب  \n",
       "2                                                                         مبين كلامه خليجي  \n",
       "3                                                                يسلملي مرورك وروحك الحلوه  \n",
       "4                                                                    وين هل الغيبه اخ محمد  \n",
       "...                                                                                    ...  \n",
       "458192                                                                     مبسوطين باسطانا  \n",
       "458193                                                                واله ماينده ابش يختي  \n",
       "458194                                شو عملنا لك حنا تهربي منا مساكين ليش بتعملي هيك فينا  \n",
       "458195                                                                 اله يبارك وبالعافيه  \n",
       "458196                                                        السحله ضيفي ي بتطلع لك سحليه  \n",
       "\n",
       "[458197 rows x 3 columns]"
      ]
     },
     "execution_count": 22,
     "metadata": {},
     "output_type": "execute_result"
    }
   ],
   "source": [
    "df=pd.read_csv('final_data_cleaned.csv')\n",
    "df"
   ]
  },
  {
   "cell_type": "code",
   "execution_count": 23,
   "id": "ab1c1b97",
   "metadata": {},
   "outputs": [],
   "source": [
    "y = df['dialect']\n",
    "X= df['content']"
   ]
  },
  {
   "cell_type": "code",
   "execution_count": 24,
   "id": "7b4fe2b2",
   "metadata": {},
   "outputs": [],
   "source": [
    "X_train , X_test , Y_train , Y_test = train_test_split(X , y,test_size=0.2 ,stratify=df['dialect'], random_state= 0)"
   ]
  },
  {
   "cell_type": "code",
   "execution_count": 25,
   "id": "51cb05c8",
   "metadata": {},
   "outputs": [],
   "source": [
    "tf_vect=TfidfVectorizer(analyzer='char',ngram_range=(1,7))"
   ]
  },
  {
   "cell_type": "code",
   "execution_count": 26,
   "id": "fb028d6c",
   "metadata": {},
   "outputs": [],
   "source": [
    "tfidf_vectorizer_vectors=tf_vect.fit_transform(X_train.values.astype('U'))"
   ]
  },
  {
   "cell_type": "code",
   "execution_count": 27,
   "id": "94486614",
   "metadata": {},
   "outputs": [
    {
     "name": "stdout",
     "output_type": "stream",
     "text": [
      "number of features:  12537542\n"
     ]
    }
   ],
   "source": [
    "print('number of features: ',tfidf_vectorizer_vectors.shape[1])"
   ]
  },
  {
   "cell_type": "code",
   "execution_count": 28,
   "id": "b9908d72",
   "metadata": {},
   "outputs": [],
   "source": [
    "pipe = Pipeline([('vectorizer', TfidfVectorizer(analyzer='char',ngram_range=(1,7))), ('XGBClasssifier', XGBClassifier())])"
   ]
  },
  {
   "cell_type": "code",
   "execution_count": null,
   "id": "259ebb53",
   "metadata": {},
   "outputs": [
    {
     "name": "stdout",
     "output_type": "stream",
     "text": [
      "[20:19:15] WARNING: /home/conda/feedstock_root/build_artifacts/xgboost-split_1637426272325/work/src/learner.cc:1115: Starting in XGBoost 1.3.0, the default evaluation metric used with the objective 'multi:softprob' was changed from 'merror' to 'mlogloss'. Explicitly set eval_metric if you'd like to restore the old behavior.\n"
     ]
    }
   ],
   "source": [
    "pipe.fit(X_train.values.astype('U'),Y_train)"
   ]
  },
  {
   "cell_type": "code",
   "execution_count": null,
   "id": "d385c214",
   "metadata": {},
   "outputs": [],
   "source": [
    "print(pipe.score(X_test.values.astype('U'),Y_test))"
   ]
  },
  {
   "cell_type": "code",
   "execution_count": null,
   "id": "c86b7cb1",
   "metadata": {},
   "outputs": [],
   "source": [
    "Y_predict=pipe.predict(X_test.values.astype('U'))"
   ]
  },
  {
   "cell_type": "code",
   "execution_count": null,
   "id": "788b8128",
   "metadata": {},
   "outputs": [],
   "source": [
    "print(classification_report(Y_test , Y_predict ,target_names=df['dialect'].unique()))"
   ]
  },
  {
   "cell_type": "code",
   "execution_count": null,
   "id": "7632b375",
   "metadata": {},
   "outputs": [],
   "source": [
    "pickle.dump(pipe, open('xgbmodel.pkl', 'wb'))"
   ]
  }
 ],
 "metadata": {
  "kernelspec": {
   "display_name": "saturn (Python 3)",
   "language": "python",
   "name": "python3"
  },
  "language_info": {
   "codemirror_mode": {
    "name": "ipython",
    "version": 3
   },
   "file_extension": ".py",
   "mimetype": "text/x-python",
   "name": "python",
   "nbconvert_exporter": "python",
   "pygments_lexer": "ipython3",
   "version": "3.9.9"
  }
 },
 "nbformat": 4,
 "nbformat_minor": 5
}
